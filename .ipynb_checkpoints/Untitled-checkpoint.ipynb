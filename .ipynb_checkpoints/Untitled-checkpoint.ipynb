{
 "cells": [
  {
   "cell_type": "code",
   "execution_count": 1,
   "id": "4e98ae56-ab81-49a9-a01f-1f6b9901ccba",
   "metadata": {},
   "outputs": [],
   "source": [
    "from matformer.matformer_dataset_new import MatformerDataset\n"
   ]
  },
  {
   "cell_type": "code",
   "execution_count": 7,
   "id": "d0117438-c8d8-44fe-a8d0-1dac418a04c0",
   "metadata": {},
   "outputs": [
    {
     "ename": "AttributeError",
     "evalue": "'MatformerDataset' object has no attribute 'struct_size'",
     "output_type": "error",
     "traceback": [
      "\u001b[31m---------------------------------------------------------------------------\u001b[39m",
      "\u001b[31mAttributeError\u001b[39m                            Traceback (most recent call last)",
      "\u001b[36mCell\u001b[39m\u001b[36m \u001b[39m\u001b[32mIn[7]\u001b[39m\u001b[32m, line 1\u001b[39m\n\u001b[32m----> \u001b[39m\u001b[32m1\u001b[39m ds=\u001b[43mMatformerDataset\u001b[49m\u001b[43m(\u001b[49m\u001b[43mpath\u001b[49m\u001b[43m=\u001b[49m\u001b[33;43m'\u001b[39;49m\u001b[33;43m../matformer_norepo/Minerva1024_lmdb\u001b[39;49m\u001b[33;43m'\u001b[39;49m\u001b[43m,\u001b[49m\u001b[43mmodality\u001b[49m\u001b[43m=\u001b[49m\u001b[33;43m'\u001b[39;49m\u001b[33;43mtokens\u001b[39;49m\u001b[33;43m'\u001b[39;49m\u001b[43m,\u001b[49m\u001b[43mtokens\u001b[49m\u001b[43m=\u001b[49m\u001b[32;43m1024\u001b[39;49m\u001b[43m)\u001b[49m\n",
      "\u001b[36mFile \u001b[39m\u001b[32m~/Ricerca/miei_progetti/matformer/matformer/matformer_dataset_new.py:93\u001b[39m, in \u001b[36mMatformerDataset.__init__\u001b[39m\u001b[34m(self, path, modality, chunk_size, tokens, n_bytes, state, byte_tokenizer, entropy_model, entropy_function, entropy_smoothing, return_type)\u001b[39m\n\u001b[32m     91\u001b[39m \u001b[38;5;66;03m# Try to load document index if it fits in memory\u001b[39;00m\n\u001b[32m     92\u001b[39m total_memory = psutil.virtual_memory().total\n\u001b[32m---> \u001b[39m\u001b[32m93\u001b[39m index_size = \u001b[38;5;28mself\u001b[39m.total_documents * \u001b[38;5;28;43mself\u001b[39;49m\u001b[43m.\u001b[49m\u001b[43mstruct_size\u001b[49m\n\u001b[32m     94\u001b[39m \u001b[38;5;28;01mif\u001b[39;00m index_size < total_memory * \u001b[32m0.2\u001b[39m:  \u001b[38;5;66;03m# Use up to 20% of RAM for index\u001b[39;00m\n\u001b[32m     95\u001b[39m     \u001b[38;5;28mself\u001b[39m._load_doc_index()\n",
      "\u001b[31mAttributeError\u001b[39m: 'MatformerDataset' object has no attribute 'struct_size'"
     ]
    }
   ],
   "source": [
    "ds=MatformerDataset(path='../matformer_norepo/Minerva1024_lmdb',modality='tokens',tokens=1024)"
   ]
  }
 ],
 "metadata": {
  "kernelspec": {
   "display_name": "Python 3 (ipykernel)",
   "language": "python",
   "name": "python3"
  },
  "language_info": {
   "codemirror_mode": {
    "name": "ipython",
    "version": 3
   },
   "file_extension": ".py",
   "mimetype": "text/x-python",
   "name": "python",
   "nbconvert_exporter": "python",
   "pygments_lexer": "ipython3",
   "version": "3.13.5"
  }
 },
 "nbformat": 4,
 "nbformat_minor": 5
}
