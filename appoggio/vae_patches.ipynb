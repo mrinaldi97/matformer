{
 "cells": [
  {
   "cell_type": "code",
   "execution_count": null,
   "id": "62334818-4edc-47d8-a7b9-6f7fe71bd139",
   "metadata": {},
   "outputs": [],
   "source": [
    "import os\n",
    "import torch\n",
    "from PIL import Image\n",
    "from diffusers.models import AutoencoderKL\n",
    "from torchvision import transforms\n",
    "from pathlib import Path\n",
    "from IPython.display import Image as displayimage\n",
    "#from torchv"
   ]
  },
  {
   "cell_type": "code",
   "execution_count": null,
   "id": "52a8ab27-45c7-4de8-a3ab-e947d4c7bd5a",
   "metadata": {},
   "outputs": [],
   "source": [
    "# Load the SDXL VAE\n",
    "print(\"Loading SDXL VAE...\")\n",
    "vae = AutoencoderKL.from_pretrained(\"stabilityai/sdxl-vae\")\n",
    "device = \"cuda\" if torch.cuda.is_available() else \"cpu\"\n",
    "vae = vae.to(device)"
   ]
  },
  {
   "cell_type": "code",
   "execution_count": null,
   "id": "37592ce5-f712-48bf-b906-92ff2bcf15dc",
   "metadata": {},
   "outputs": [],
   "source": [
    "# Define image transformations\n",
    "transform = transforms.Compose([\n",
    "    transforms.ToTensor(),\n",
    "    transforms.Normalize([0.5], [0.5])  # Normalize to [-1, 1]\n",
    "])"
   ]
  },
  {
   "cell_type": "code",
   "execution_count": null,
   "id": "7fcb7cf9-1364-48c7-94a9-ff974ce42bd5",
   "metadata": {},
   "outputs": [],
   "source": [
    "def img_to_latent(img_path):\n",
    "        img = Image.open(img_path).convert(\"RGB\")\n",
    "        img_tensor = transform(img).unsqueeze(0).to(device)\n",
    "        with torch.no_grad():\n",
    "            # Encode\n",
    "            latent = vae.encode(img_tensor).latent_dist.sample()\n",
    "        return latent"
   ]
  },
  {
   "cell_type": "code",
   "execution_count": null,
   "id": "8adfa863-5fac-46c9-a5c4-69718716c37d",
   "metadata": {},
   "outputs": [],
   "source": [
    "def latent_to_img(latent):\n",
    "        reconstructed = vae.decode(latent).sample\n",
    "        reconstructed = (reconstructed.squeeze(0).cpu() * 0.5 + 0.5).clamp(0, 1)\n",
    "        #reconstructed_img = transforms.ToPILImage()(reconstructed)\n",
    "        return reconstructed"
   ]
  },
  {
   "cell_type": "code",
   "execution_count": null,
   "id": "19edd8ef-0c9d-4fb4-8df5-8d3c0e8bff30",
   "metadata": {},
   "outputs": [],
   "source": [
    "img_path='../datasets/caltech256/159.people/159_0015.jpg'\n",
    "displayimage(filename=img_path) "
   ]
  },
  {
   "cell_type": "code",
   "execution_count": null,
   "id": "ffc34557-cbe1-4774-a45e-e393208748cd",
   "metadata": {},
   "outputs": [],
   "source": [
    "latent=img_to_latent(img_path)"
   ]
  },
  {
   "cell_type": "code",
   "execution_count": null,
   "id": "d401a1a3-8c00-4919-964a-883637ca392a",
   "metadata": {},
   "outputs": [],
   "source": [
    "latent[0].shape"
   ]
  },
  {
   "cell_type": "code",
   "execution_count": null,
   "id": "9a3dd2eb-abda-427f-b7da-b7de22e42c90",
   "metadata": {},
   "outputs": [],
   "source": [
    "num_train_timesteps = 1000 \n",
    "beta_start = 0.00085\n",
    "beta_end = 0.0120   \n",
    "betas = torch.linspace(beta_start**0.5, beta_end**0.5, num_train_timesteps, dtype=torch.float32) ** 2\n",
    "\n",
    "alphas = 1.0 - betas\n",
    "alphas_cumprod = torch.cumprod(alphas, dim=0).to(device) "
   ]
  },
  {
   "cell_type": "code",
   "execution_count": null,
   "id": "d51632a4-cb73-465c-8588-5de35605b6f4",
   "metadata": {},
   "outputs": [],
   "source": [
    "noise_epsilon = torch.randn_like(latent)"
   ]
  },
  {
   "cell_type": "code",
   "execution_count": null,
   "id": "0dcfb089-70f7-4d7c-baad-d111f47f028f",
   "metadata": {},
   "outputs": [],
   "source": [
    "transforms.ToPILImage()(latent_to_img(noise_epsilon))"
   ]
  },
  {
   "cell_type": "code",
   "execution_count": null,
   "id": "4eff67fd-9bd8-45af-98a7-291ff1314a1e",
   "metadata": {},
   "outputs": [],
   "source": [
    "transforms.ToPILImage()(latent_to_img(((latent*0.5).flip(-1)*2).flip(1)))"
   ]
  }
 ],
 "metadata": {
  "kernelspec": {
   "display_name": "Python 3 (ipykernel)",
   "language": "python",
   "name": "python3"
  },
  "language_info": {
   "codemirror_mode": {
    "name": "ipython",
    "version": 3
   },
   "file_extension": ".py",
   "mimetype": "text/x-python",
   "name": "python",
   "nbconvert_exporter": "python",
   "pygments_lexer": "ipython3",
   "version": "3.13.2"
  }
 },
 "nbformat": 4,
 "nbformat_minor": 5
}
