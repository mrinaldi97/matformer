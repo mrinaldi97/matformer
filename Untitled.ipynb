{
 "cells": [
  {
   "cell_type": "code",
   "execution_count": 2,
   "id": "4e98ae56-ab81-49a9-a01f-1f6b9901ccba",
   "metadata": {},
   "outputs": [],
   "source": [
    "from matformer.matformer_dataset_new import MatformerDataset\n"
   ]
  },
  {
   "cell_type": "code",
   "execution_count": 3,
   "id": "d0117438-c8d8-44fe-a8d0-1dac418a04c0",
   "metadata": {},
   "outputs": [
    {
     "name": "stdout",
     "output_type": "stream",
     "text": [
      "Loaded document index with 2943839 entries\n",
      "tokens: 1024, token_per_segment: 1024\n"
     ]
    },
    {
     "ename": "AttributeError",
     "evalue": "'MatformerDataset' object has no attribute 'current_doc_idx'",
     "output_type": "error",
     "traceback": [
      "\u001b[31m---------------------------------------------------------------------------\u001b[39m",
      "\u001b[31mAttributeError\u001b[39m                            Traceback (most recent call last)",
      "\u001b[36mCell\u001b[39m\u001b[36m \u001b[39m\u001b[32mIn[3]\u001b[39m\u001b[32m, line 1\u001b[39m\n\u001b[32m----> \u001b[39m\u001b[32m1\u001b[39m ds=\u001b[43mMatformerDataset\u001b[49m\u001b[43m(\u001b[49m\u001b[43mpath\u001b[49m\u001b[43m=\u001b[49m\u001b[33;43m'\u001b[39;49m\u001b[33;43m../matformer_norepo/Minerva1024_lmdb\u001b[39;49m\u001b[33;43m'\u001b[39;49m\u001b[43m,\u001b[49m\u001b[43mmodality\u001b[49m\u001b[43m=\u001b[49m\u001b[33;43m'\u001b[39;49m\u001b[33;43mtokens\u001b[39;49m\u001b[33;43m'\u001b[39;49m\u001b[43m,\u001b[49m\u001b[43mtokens\u001b[49m\u001b[43m=\u001b[49m\u001b[32;43m1024\u001b[39;49m\u001b[43m)\u001b[49m\n",
      "\u001b[36mFile \u001b[39m\u001b[32m~/Ricerca/miei_progetti/matformer/matformer/matformer_dataset_new.py:150\u001b[39m, in \u001b[36mMatformerDataset.__init__\u001b[39m\u001b[34m(self, path, modality, chunk_size, tokens, n_bytes, state, byte_tokenizer, entropy_model, entropy_function, entropy_smoothing, return_type)\u001b[39m\n\u001b[32m    147\u001b[39m     \u001b[38;5;28mself\u001b[39m.current_doc_idx = \u001b[38;5;28mself\u001b[39m.my_doc_start - \u001b[32m1\u001b[39m  \u001b[38;5;66;03m# Will be incremented in _load_next_document\u001b[39;00m\n\u001b[32m    148\u001b[39m \u001b[38;5;28;01melse\u001b[39;00m:\n\u001b[32m    149\u001b[39m     \u001b[38;5;66;03m# Fall back to sequential reading\u001b[39;00m\n\u001b[32m--> \u001b[39m\u001b[32m150\u001b[39m     \u001b[38;5;28;43mself\u001b[39;49m\u001b[43m.\u001b[49m\u001b[43m_load_next_document\u001b[49m\u001b[43m(\u001b[49m\u001b[43m)\u001b[49m\n",
      "\u001b[36mFile \u001b[39m\u001b[32m~/Ricerca/miei_progetti/matformer/matformer/matformer_dataset_new.py:240\u001b[39m, in \u001b[36mMatformerDataset._load_next_document\u001b[39m\u001b[34m(self)\u001b[39m\n\u001b[32m    233\u001b[39m     \u001b[38;5;28mself\u001b[39m.current_document_remainder = (\n\u001b[32m    234\u001b[39m         \u001b[38;5;28mself\u001b[39m.doc_index[\u001b[38;5;28mself\u001b[39m.current_doc_idx][\u001b[32m3\u001b[39m] \n\u001b[32m    235\u001b[39m         \u001b[38;5;28;01mif\u001b[39;00m \u001b[38;5;28mlen\u001b[39m(\u001b[38;5;28mself\u001b[39m.doc_index[\u001b[38;5;28mself\u001b[39m.current_doc_idx]) > \u001b[32m3\u001b[39m \u001b[38;5;129;01mand\u001b[39;00m \u001b[38;5;28mself\u001b[39m.mdat_header[\u001b[33m'\u001b[39m\u001b[33mstructs\u001b[39m\u001b[33m'\u001b[39m].get(\u001b[33m'\u001b[39m\u001b[33mtoken_remainder\u001b[39m\u001b[33m'\u001b[39m) \n\u001b[32m    236\u001b[39m         \u001b[38;5;28;01melse\u001b[39;00m \u001b[32m0\u001b[39m\n\u001b[32m    237\u001b[39m     )\n\u001b[32m    238\u001b[39m \u001b[38;5;28;01melif\u001b[39;00m \u001b[38;5;28mself\u001b[39m.doc_index_loaded:\n\u001b[32m    239\u001b[39m     \u001b[38;5;66;03m# Single GPU with index: sequential loading\u001b[39;00m\n\u001b[32m--> \u001b[39m\u001b[32m240\u001b[39m     \u001b[38;5;28;43mself\u001b[39;49m\u001b[43m.\u001b[49m\u001b[43mcurrent_doc_idx\u001b[49m += \u001b[32m1\u001b[39m\n\u001b[32m    241\u001b[39m     \u001b[38;5;28;01mif\u001b[39;00m \u001b[38;5;28mself\u001b[39m.current_doc_idx >= \u001b[38;5;28mlen\u001b[39m(\u001b[38;5;28mself\u001b[39m.doc_index):\n\u001b[32m    242\u001b[39m         \u001b[38;5;28mself\u001b[39m.current_document = \u001b[38;5;28;01mNone\u001b[39;00m\n",
      "\u001b[31mAttributeError\u001b[39m: 'MatformerDataset' object has no attribute 'current_doc_idx'"
     ]
    }
   ],
   "source": [
    "ds=MatformerDataset(path='../matformer_norepo/Minerva1024_lmdb',modality='tokens',tokens=1024)"
   ]
  },
  {
   "cell_type": "code",
   "execution_count": null,
   "id": "da7216af-074e-4202-9cbf-137797176b92",
   "metadata": {},
   "outputs": [],
   "source": [
    "ds"
   ]
  }
 ],
 "metadata": {
  "kernelspec": {
   "display_name": "Python 3 (ipykernel)",
   "language": "python",
   "name": "python3"
  },
  "language_info": {
   "codemirror_mode": {
    "name": "ipython",
    "version": 3
   },
   "file_extension": ".py",
   "mimetype": "text/x-python",
   "name": "python",
   "nbconvert_exporter": "python",
   "pygments_lexer": "ipython3",
   "version": "3.13.5"
  }
 },
 "nbformat": 4,
 "nbformat_minor": 5
}
