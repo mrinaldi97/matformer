{
 "cells": [
  {
   "cell_type": "code",
   "execution_count": 1,
   "id": "408634e9-ed6c-436e-8df3-0d932fa57f94",
   "metadata": {},
   "outputs": [],
   "source": [
    "from matformer_dataset import MatformerDataset"
   ]
  },
  {
   "cell_type": "code",
   "execution_count": 2,
   "id": "99faa417-c7e4-4843-b437-958194bd75f6",
   "metadata": {},
   "outputs": [],
   "source": [
    "mdat=MatformerDataset.load_dataset('./prova',create_if_not_existent=True)"
   ]
  },
  {
   "cell_type": "code",
   "execution_count": 3,
   "id": "38b7e6ca-fe33-4c60-8882-e221019cb97b",
   "metadata": {},
   "outputs": [
    {
     "data": {
      "text/plain": [
       "[]"
      ]
     },
     "execution_count": 3,
     "metadata": {},
     "output_type": "execute_result"
    }
   ],
   "source": [
    "mdat.list_strategies()"
   ]
  },
  {
   "cell_type": "code",
   "execution_count": null,
   "id": "05e46775-06d2-423d-90b1-1f60dc108daf",
   "metadata": {},
   "outputs": [],
   "source": [
    "len(mdat['test1'])"
   ]
  },
  {
   "cell_type": "code",
   "execution_count": null,
   "id": "2c5f34a1-045a-440d-9c0a-f839b207635c",
   "metadata": {},
   "outputs": [],
   "source": []
  },
  {
   "cell_type": "code",
   "execution_count": null,
   "id": "62776f6f-a9a6-4f59-84f2-c20bb66ea34a",
   "metadata": {},
   "outputs": [],
   "source": [
    "mdat['test1'].pretokenize_submdat('Split_and_tokenize_nltk_sentences')"
   ]
  },
  {
   "cell_type": "code",
   "execution_count": 4,
   "id": "7fb43c4d-6898-4dfc-8996-f0ff7993b2dc",
   "metadata": {},
   "outputs": [
    {
     "data": {
      "text/plain": [
       "{'strategy_name': 'Split_and_tokenize_nltk_sentences',\n",
       " 'tokenizer_type': 'huggingface',\n",
       " 'tokenizer_name': 'sapienzanlp/Minerva-350M-base-v1.0',\n",
       " 'splitter_class': 'split_and_tokenize_by_nltk_sentences',\n",
       " 'splitter_init': {'language': 'italian', 'max_tokens': 1024},\n",
       " 'splitter_arguments': 'None',\n",
       " 'modality': 'text',\n",
       " 'chunk_size': 1024,\n",
       " 'wants_from_db': ['data'],\n",
       " 'returns': ['tokens', 'chunks']}"
      ]
     },
     "execution_count": 4,
     "metadata": {},
     "output_type": "execute_result"
    }
   ],
   "source": [
    "import json\n",
    "strategy_dict=json.loads(\"\"\"\n",
    "{\n",
    "    \"strategy_name\":\"Split_and_tokenize_nltk_sentences\",\n",
    "    \"tokenizer_type\":\"huggingface\",\n",
    "    \"tokenizer_name\":\"sapienzanlp/Minerva-350M-base-v1.0\",\n",
    "    \"splitter_class\":\"split_and_tokenize_by_nltk_sentences\",\n",
    "    \"splitter_init\":{\"language\":\"italian\",\"max_tokens\":1024},\n",
    "    \"splitter_arguments\":null,\n",
    "    \"modality\":\"text\",\n",
    "    \"chunk_size\":1024,\n",
    "    \"wants_from_db\":[\"data\"],\n",
    "    \"wants_raw\":true,\n",
    "    \"returns\":[\"tokens\",\"chunks\"]\n",
    "}\n",
    "\"\"\")\n",
    "strategy_dict"
   ]
  },
  {
   "cell_type": "code",
   "execution_count": 5,
   "id": "deea022c-32b2-49bc-944d-a81286687363",
   "metadata": {},
   "outputs": [
    {
     "ename": "KeyError",
     "evalue": "'wants_raw'",
     "output_type": "error",
     "traceback": [
      "\u001b[31m---------------------------------------------------------------------------\u001b[39m",
      "\u001b[31mKeyError\u001b[39m                                  Traceback (most recent call last)",
      "\u001b[36mCell\u001b[39m\u001b[36m \u001b[39m\u001b[32mIn[5]\u001b[39m\u001b[32m, line 1\u001b[39m\n\u001b[32m----> \u001b[39m\u001b[32m1\u001b[39m \u001b[43mmdat\u001b[49m\u001b[43m.\u001b[49m\u001b[43mregister_strategy\u001b[49m\u001b[43m(\u001b[49m\u001b[43mstrategy_dict\u001b[49m\u001b[43m)\u001b[49m\n",
      "\u001b[36mFile \u001b[39m\u001b[32m~/Ricerca/miei_progetti/matformer/mdat/matformer_dataset.py:360\u001b[39m, in \u001b[36mMatformerDataset.register_strategy\u001b[39m\u001b[34m(self, strategy_dict)\u001b[39m\n\u001b[32m    358\u001b[39m \u001b[38;5;28;01mif\u001b[39;00m strategy_name \u001b[38;5;129;01min\u001b[39;00m \u001b[38;5;28mself\u001b[39m._get_manifest_attr(\u001b[33m'\u001b[39m\u001b[33mpretok_strategies\u001b[39m\u001b[33m'\u001b[39m, []):\n\u001b[32m    359\u001b[39m     \u001b[38;5;28;01mraise\u001b[39;00m NameAlreadyUsed(\u001b[33mf\u001b[39m\u001b[33m\"\u001b[39m\u001b[33mStrategy \u001b[39m\u001b[33m'\u001b[39m\u001b[38;5;132;01m{\u001b[39;00mstrategy_name\u001b[38;5;132;01m}\u001b[39;00m\u001b[33m'\u001b[39m\u001b[33m already registered\u001b[39m\u001b[33m\"\u001b[39m)\n\u001b[32m--> \u001b[39m\u001b[32m360\u001b[39m strategy=\u001b[43mPretokenizationStrategy\u001b[49m\u001b[43m.\u001b[49m\u001b[43mfrom_dict\u001b[49m\u001b[43m(\u001b[49m\u001b[38;5;28;43mself\u001b[39;49m\u001b[43m,\u001b[49m\u001b[43mstrategy_name\u001b[49m\u001b[43m,\u001b[49m\u001b[43mstrategy_dict\u001b[49m\u001b[43m)\u001b[49m\n\u001b[32m    361\u001b[39m \u001b[38;5;28;01mif\u001b[39;00m strategy:\n\u001b[32m    362\u001b[39m     strategy.save()\n",
      "\u001b[36mFile \u001b[39m\u001b[32m~/Ricerca/miei_progetti/matformer/mdat/matformer_dataset.py:1161\u001b[39m, in \u001b[36mPretokenizationStrategy.from_dict\u001b[39m\u001b[34m(cls, mdat, strategy_name, strategy_dict)\u001b[39m\n\u001b[32m   1158\u001b[39m instance.on_the_fly_warning = \u001b[38;5;28;01mFalse\u001b[39;00m\n\u001b[32m   1159\u001b[39m instance.on_the_fly_mode = \u001b[38;5;28;01mTrue\u001b[39;00m\n\u001b[32m-> \u001b[39m\u001b[32m1161\u001b[39m \u001b[43minstance\u001b[49m\u001b[43m.\u001b[49m\u001b[43m_create_from_dict\u001b[49m\u001b[43m(\u001b[49m\u001b[43mstrategy_dict\u001b[49m\u001b[43m)\u001b[49m\n\u001b[32m   1162\u001b[39m instance._initialize_components()\n\u001b[32m   1163\u001b[39m \u001b[38;5;28;01mreturn\u001b[39;00m instance\n",
      "\u001b[36mFile \u001b[39m\u001b[32m~/Ricerca/miei_progetti/matformer/mdat/matformer_dataset.py:1185\u001b[39m, in \u001b[36mPretokenizationStrategy._create_from_dict\u001b[39m\u001b[34m(self, strategy_dict)\u001b[39m\n\u001b[32m   1183\u001b[39m \u001b[38;5;28mself\u001b[39m.modality = strategy_dict[\u001b[33m'\u001b[39m\u001b[33mmodality\u001b[39m\u001b[33m'\u001b[39m]\n\u001b[32m   1184\u001b[39m \u001b[38;5;28mself\u001b[39m.wants_from_db = strategy_dict[\u001b[33m'\u001b[39m\u001b[33mwants_from_db\u001b[39m\u001b[33m'\u001b[39m]\n\u001b[32m-> \u001b[39m\u001b[32m1185\u001b[39m \u001b[38;5;28mself\u001b[39m.wants_raw = \u001b[43mstrategy_dict\u001b[49m\u001b[43m[\u001b[49m\u001b[33;43m'\u001b[39;49m\u001b[33;43mwants_raw\u001b[39;49m\u001b[33;43m'\u001b[39;49m\u001b[43m]\u001b[49m\n\u001b[32m   1186\u001b[39m \u001b[38;5;28mself\u001b[39m.returns = strategy_dict[\u001b[33m'\u001b[39m\u001b[33mreturns\u001b[39m\u001b[33m'\u001b[39m]\n",
      "\u001b[31mKeyError\u001b[39m: 'wants_raw'"
     ]
    }
   ],
   "source": [
    "mdat.register_strategy(strategy_dict)"
   ]
  },
  {
   "cell_type": "code",
   "execution_count": null,
   "id": "0c1f3970-32a6-43ef-ad8e-11ee0ba91a34",
   "metadata": {},
   "outputs": [],
   "source": [
    "mdat['test1'].pretok_db"
   ]
  },
  {
   "cell_type": "code",
   "execution_count": null,
   "id": "33ee3105-5465-4296-aeef-d19c6c84ef5b",
   "metadata": {},
   "outputs": [],
   "source": [
    "from matformer_dataset import LMDBDataset"
   ]
  },
  {
   "cell_type": "code",
   "execution_count": null,
   "id": "61dcc2bf-0682-4e7a-9f50-7f359822a720",
   "metadata": {},
   "outputs": [],
   "source": [
    "lm1=LMDBDataset(\"./prova/pretok/Split_and_tokenize_nltk_sentences/test1/tokens.dat\")"
   ]
  },
  {
   "cell_type": "code",
   "execution_count": null,
   "id": "47ec9d88-c4b8-4ec3-b17d-f51a1c900c0f",
   "metadata": {},
   "outputs": [],
   "source": [
    "lm1[1]"
   ]
  }
 ],
 "metadata": {
  "kernelspec": {
   "display_name": "Python 3 (ipykernel)",
   "language": "python",
   "name": "python3"
  },
  "language_info": {
   "codemirror_mode": {
    "name": "ipython",
    "version": 3
   },
   "file_extension": ".py",
   "mimetype": "text/x-python",
   "name": "python",
   "nbconvert_exporter": "python",
   "pygments_lexer": "ipython3",
   "version": "3.13.7"
  }
 },
 "nbformat": 4,
 "nbformat_minor": 5
}
