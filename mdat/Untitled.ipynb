{
 "cells": [
  {
   "cell_type": "code",
   "execution_count": 2,
   "id": "408634e9-ed6c-436e-8df3-0d932fa57f94",
   "metadata": {},
   "outputs": [],
   "source": [
    "from matformer_dataset import MatformerDataset"
   ]
  },
  {
   "cell_type": "code",
   "execution_count": 3,
   "id": "99faa417-c7e4-4843-b437-958194bd75f6",
   "metadata": {},
   "outputs": [],
   "source": [
    "mdat=MatformerDataset.load_dataset('./albertino',create_if_not_existent=True)"
   ]
  },
  {
   "cell_type": "code",
   "execution_count": null,
   "id": "38b7e6ca-fe33-4c60-8882-e221019cb97b",
   "metadata": {},
   "outputs": [],
   "source": [
    "mdat.shuffle()"
   ]
  },
  {
   "cell_type": "code",
   "execution_count": 27,
   "id": "160b24f2-d478-4ff3-b5d5-e5a7b6ed4a5e",
   "metadata": {},
   "outputs": [],
   "source": [
    "mdat.set_multiplier(1)"
   ]
  },
  {
   "cell_type": "code",
   "execution_count": 30,
   "id": "56751c0d-add9-4702-aec6-27b309f4efd4",
   "metadata": {},
   "outputs": [],
   "source": [
    "mdat.set_iteration_modality('chunked_tokens',with_meta=False)"
   ]
  },
  {
   "cell_type": "code",
   "execution_count": 28,
   "id": "05e46775-06d2-423d-90b1-1f60dc108daf",
   "metadata": {},
   "outputs": [],
   "source": [
    "mdat._seek_document_pointer(0)"
   ]
  },
  {
   "cell_type": "code",
   "execution_count": 29,
   "id": "2f652fd4-9935-4804-bfab-0c71796e2db5",
   "metadata": {},
   "outputs": [
    {
     "data": {
      "text/plain": [
       "0"
      ]
     },
     "execution_count": 29,
     "metadata": {},
     "output_type": "execute_result"
    }
   ],
   "source": [
    "mdat.document_index"
   ]
  },
  {
   "cell_type": "code",
   "execution_count": 31,
   "id": "678b88b7-adb3-4e82-aecd-49577be48e8b",
   "metadata": {},
   "outputs": [
    {
     "name": "stderr",
     "output_type": "stream",
     "text": [
      "100%|███████████████████████████████████████████████████████| 12641/12641 [00:03<00:00, 4165.67it/s]\n"
     ]
    }
   ],
   "source": [
    "from tqdm import tqdm\n",
    "for _ in tqdm(mdat):\n",
    "    pass"
   ]
  },
  {
   "cell_type": "code",
   "execution_count": null,
   "id": "9546a7f9-1591-4f94-b8a8-2d404450bd37",
   "metadata": {},
   "outputs": [],
   "source": [
    "len(mdat.loaded_submdats['blogs'])"
   ]
  },
  {
   "cell_type": "code",
   "execution_count": null,
   "id": "e01b6231-53f9-43e7-9925-0b56ecb9c0e9",
   "metadata": {},
   "outputs": [],
   "source": [
    "mdat['blogs'].set_strategy('Split_and_tokenize_nltk_sentences')"
   ]
  },
  {
   "cell_type": "code",
   "execution_count": null,
   "id": "2c5f34a1-045a-440d-9c0a-f839b207635c",
   "metadata": {},
   "outputs": [],
   "source": [
    "mdat['blogs'].set_default_wanted(from_dbs=[],from_strategy=['chunked_tokens'])"
   ]
  },
  {
   "cell_type": "code",
   "execution_count": null,
   "id": "10f6d351-f9d9-48c8-a4db-8f692cadd895",
   "metadata": {},
   "outputs": [],
   "source": [
    "mdat.load_next_document()"
   ]
  },
  {
   "cell_type": "code",
   "execution_count": null,
   "id": "4e642c68-97b7-4b69-9700-af391ce7c670",
   "metadata": {},
   "outputs": [],
   "source": [
    "mdat.current_document"
   ]
  },
  {
   "cell_type": "code",
   "execution_count": null,
   "id": "62776f6f-a9a6-4f59-84f2-c20bb66ea34a",
   "metadata": {},
   "outputs": [],
   "source": [
    "mdat['blogs'].pretokenize_submdat('Split_and_tokenize_nltk_sentences')"
   ]
  },
  {
   "cell_type": "code",
   "execution_count": null,
   "id": "7fb43c4d-6898-4dfc-8996-f0ff7993b2dc",
   "metadata": {},
   "outputs": [],
   "source": [
    "import json\n",
    "strategy_dict=json.loads(\"\"\"\n",
    "{\n",
    "    \"strategy_name\":\"Split_and_tokenize_nltk_sentences\",\n",
    "    \"tokenizer_type\":\"huggingface\",\n",
    "    \"tokenizer_name\":\"sapienzanlp/Minerva-350M-base-v1.0\",\n",
    "    \"splitter_class\":\"split_and_tokenize_by_nltk_sentences\",\n",
    "    \"splitter_init\":{\"language\":\"italian\",\"max_tokens\":1024},\n",
    "    \"splitter_arguments\":null,\n",
    "    \"modality\":\"text\",\n",
    "    \"chunk_size\":1024,\n",
    "    \"wants_from_db\":[\"data\"],\n",
    "    \"wants_raw\":true,\n",
    "    \"returns\":[\"tokens\",\"chunks\"]\n",
    "}\n",
    "\"\"\")\n",
    "strategy_dict"
   ]
  },
  {
   "cell_type": "code",
   "execution_count": null,
   "id": "deea022c-32b2-49bc-944d-a81286687363",
   "metadata": {},
   "outputs": [],
   "source": [
    "mdat.register_strategy(strategy_dict)"
   ]
  },
  {
   "cell_type": "code",
   "execution_count": null,
   "id": "0c1f3970-32a6-43ef-ad8e-11ee0ba91a34",
   "metadata": {},
   "outputs": [],
   "source": [
    "mdat['blogs'].pretokenize_submdat(strategy_name='Split_and_tokenize_nltk_sentences',batch_size=1000)"
   ]
  },
  {
   "cell_type": "code",
   "execution_count": null,
   "id": "33ee3105-5465-4296-aeef-d19c6c84ef5b",
   "metadata": {},
   "outputs": [],
   "source": [
    "totlen=0\n",
    "for sub in mdat.loaded_submdats.values():\n",
    "    totlen+=len(sub)\n",
    "print(totlen)"
   ]
  },
  {
   "cell_type": "code",
   "execution_count": null,
   "id": "61dcc2bf-0682-4e7a-9f50-7f359822a720",
   "metadata": {},
   "outputs": [],
   "source": [
    "mdat['blogs'].set_strategy('Split_and_tokenize_nltk_sentences')"
   ]
  },
  {
   "cell_type": "code",
   "execution_count": null,
   "id": "47ec9d88-c4b8-4ec3-b17d-f51a1c900c0f",
   "metadata": {},
   "outputs": [],
   "source": [
    "gen=mdat['blogs'].get_generator(wanted_from_dbs=[],wanted_from_strategy=['chunked_tokens'])"
   ]
  },
  {
   "cell_type": "code",
   "execution_count": 4,
   "id": "039dcaad-17da-4e4a-ae4b-261f61427b1b",
   "metadata": {},
   "outputs": [],
   "source": [
    "mdat.set_strategy('Split_and_tokenize_nltk_sentences')"
   ]
  },
  {
   "cell_type": "code",
   "execution_count": 32,
   "id": "58c5f0fc-f4ce-4daa-afb9-452075e850d3",
   "metadata": {},
   "outputs": [
    {
     "data": {
      "text/plain": [
       "'./albertino/functions'"
      ]
     },
     "execution_count": 32,
     "metadata": {},
     "output_type": "execute_result"
    }
   ],
   "source": [
    "mdat.functions_path"
   ]
  },
  {
   "cell_type": "code",
   "execution_count": null,
   "id": "12bd097a-37eb-4133-b3e1-1175a89eedd9",
   "metadata": {},
   "outputs": [],
   "source": [
    "print(mdat['blogs'])"
   ]
  }
 ],
 "metadata": {
  "kernelspec": {
   "display_name": "Python 3 (ipykernel)",
   "language": "python",
   "name": "python3"
  },
  "language_info": {
   "codemirror_mode": {
    "name": "ipython",
    "version": 3
   },
   "file_extension": ".py",
   "mimetype": "text/x-python",
   "name": "python",
   "nbconvert_exporter": "python",
   "pygments_lexer": "ipython3",
   "version": "3.13.7"
  }
 },
 "nbformat": 4,
 "nbformat_minor": 5
}
